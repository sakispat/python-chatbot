{
 "cells": [
  {
   "cell_type": "code",
   "execution_count": 4,
   "id": "93202974",
   "metadata": {},
   "outputs": [],
   "source": [
    "from chatterbot import ChatBot\n",
    "from chatterbot.trainers import ChatterBotCorpusTrainer"
   ]
  },
  {
   "cell_type": "code",
   "execution_count": null,
   "id": "f9290296",
   "metadata": {},
   "outputs": [
    {
     "name": "stdout",
     "output_type": "stream",
     "text": [
      "\u001b[38;5;3m⚠ As of spaCy v3.0, shortcuts like 'en' are deprecated. Please use the\n",
      "full pipeline package name 'en_core_web_sm' instead.\u001b[0m\n",
      "Collecting en-core-web-sm==3.8.0\n",
      "  Downloading https://github.com/explosion/spacy-models/releases/download/en_core_web_sm-3.8.0/en_core_web_sm-3.8.0-py3-none-any.whl (12.8 MB)\n",
      "     ---------------------------------------- 0.0/12.8 MB ? eta -:--:--\n",
      "      --------------------------------------- 0.3/12.8 MB ? eta -:--:--\n",
      "     ---- ----------------------------------- 1.6/12.8 MB 5.2 MB/s eta 0:00:03\n",
      "     -------- ------------------------------- 2.6/12.8 MB 4.9 MB/s eta 0:00:03\n",
      "     ---------- ----------------------------- 3.4/12.8 MB 4.8 MB/s eta 0:00:02\n",
      "     ------------- -------------------------- 4.5/12.8 MB 4.8 MB/s eta 0:00:02\n",
      "     ----------------- ---------------------- 5.5/12.8 MB 4.7 MB/s eta 0:00:02\n",
      "     -------------------- ------------------- 6.6/12.8 MB 4.7 MB/s eta 0:00:02\n",
      "     ----------------------- ---------------- 7.6/12.8 MB 4.8 MB/s eta 0:00:02\n",
      "     --------------------------- ------------ 8.7/12.8 MB 4.8 MB/s eta 0:00:01\n",
      "     ------------------------------ --------- 9.7/12.8 MB 4.8 MB/s eta 0:00:01\n",
      "     --------------------------------- ------ 10.7/12.8 MB 4.9 MB/s eta 0:00:01\n",
      "     ------------------------------------ --- 11.8/12.8 MB 4.9 MB/s eta 0:00:01\n",
      "     ---------------------------------------- 12.8/12.8 MB 4.8 MB/s  0:00:02\n",
      "Installing collected packages: en-core-web-sm\n",
      "Successfully installed en-core-web-sm-3.8.0\n",
      "\u001b[38;5;2m✔ Download and installation successful\u001b[0m\n",
      "You can now load the package via spacy.load('en_core_web_sm')\n"
     ]
    }
   ],
   "source": [
    "# Download spacy language\n",
    "!python -m spacy download en"
   ]
  },
  {
   "cell_type": "code",
   "execution_count": 6,
   "id": "96fac940",
   "metadata": {},
   "outputs": [],
   "source": [
    "# Create a new chatbot instance\n",
    "bot = ChatBot('MyChatBot')"
   ]
  },
  {
   "cell_type": "code",
   "execution_count": 7,
   "id": "941ff904",
   "metadata": {},
   "outputs": [],
   "source": [
    "# Create a trainer for the bot\n",
    "trainer = ChatterBotCorpusTrainer(bot)"
   ]
  },
  {
   "cell_type": "code",
   "execution_count": 8,
   "id": "6415b64e",
   "metadata": {},
   "outputs": [
    {
     "name": "stderr",
     "output_type": "stream",
     "text": [
      "ChatterBot Corpus Trainer: 19it [00:03,  4.90it/s]\n"
     ]
    }
   ],
   "source": [
    "# Train the bot using English corpus data (pre-built conversations)\n",
    "trainer.train('chatterbot.corpus.english')"
   ]
  },
  {
   "cell_type": "code",
   "execution_count": 9,
   "id": "1af72b16",
   "metadata": {},
   "outputs": [],
   "source": [
    "# Function to get response\n",
    "def get_response(user_input):\n",
    "    return bot.get_response(user_input)"
   ]
  },
  {
   "cell_type": "code",
   "execution_count": 10,
   "id": "fd8e02fc",
   "metadata": {},
   "outputs": [
    {
     "name": "stdout",
     "output_type": "stream",
     "text": [
      "Chat with the bot! Type \"exit\" to stop.\n",
      "Bot: What is AI?\n"
     ]
    },
    {
     "name": "stderr",
     "output_type": "stream",
     "text": [
      "e:\\SoftwareDeveloper\\MyDocuments\\MyProjects\\General\\Python\\python-chatbot\\env\\lib\\site-packages\\chatterbot\\storage\\sql_storage.py:245: SAWarning: Object of type <Statement> not in session, add operation along 'Tag.statements' won't proceed (This warning originated from the Session 'autoflush' process, which was invoked automatically in response to a user-initiated operation. Consider using ``no_autoflush`` context manager if this warning happened while initializing objects.)\n",
      "  tag = session.query(Tag).filter_by(name=tag_name).first()\n"
     ]
    },
    {
     "name": "stdout",
     "output_type": "stream",
     "text": [
      "Bot: Hi\n",
      "Bot: who wrote frankenstein\n",
      "Bot: I do not, no.\n"
     ]
    }
   ],
   "source": [
    "# Simple chat loop (run in terminal or integrate into a UI)\n",
    "print('Chat with the bot! Type \"exit\" to stop.')\n",
    "while True:\n",
    "    user_input = input(\"You: \")\n",
    "    if user_input.lower() == 'exit':\n",
    "        break\n",
    "    response = get_response(user_input)\n",
    "    print(f'Bot: {response}')"
   ]
  }
 ],
 "metadata": {
  "kernelspec": {
   "display_name": "env (3.10.0)",
   "language": "python",
   "name": "python3"
  },
  "language_info": {
   "codemirror_mode": {
    "name": "ipython",
    "version": 3
   },
   "file_extension": ".py",
   "mimetype": "text/x-python",
   "name": "python",
   "nbconvert_exporter": "python",
   "pygments_lexer": "ipython3",
   "version": "3.10.0"
  }
 },
 "nbformat": 4,
 "nbformat_minor": 5
}
