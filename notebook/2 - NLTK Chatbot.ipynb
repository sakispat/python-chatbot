{
 "cells": [
  {
   "cell_type": "code",
   "execution_count": 1,
   "id": "f1bd2ea3",
   "metadata": {},
   "outputs": [],
   "source": [
    "import nltk\n",
    "import random\n",
    "from nltk.chat.util import Chat, reflections"
   ]
  },
  {
   "cell_type": "code",
   "execution_count": 2,
   "id": "0e9a04fd",
   "metadata": {},
   "outputs": [
    {
     "name": "stderr",
     "output_type": "stream",
     "text": [
      "[nltk_data] Downloading package punkt to\n",
      "[nltk_data]     C:\\Users\\sakis\\AppData\\Roaming\\nltk_data...\n",
      "[nltk_data]   Package punkt is already up-to-date!\n"
     ]
    },
    {
     "data": {
      "text/plain": [
       "True"
      ]
     },
     "execution_count": 2,
     "metadata": {},
     "output_type": "execute_result"
    }
   ],
   "source": [
    "# Down load NLTK data (run once)\n",
    "nltk.download('punkt')  # for tokenization"
   ]
  },
  {
   "cell_type": "code",
   "execution_count": 3,
   "id": "4bd47747",
   "metadata": {},
   "outputs": [],
   "source": [
    "# Define pairs of patterns and responses\n",
    "pairs = [\n",
    "    [\n",
    "        r'my name is (.*)',\n",
    "        ['Hello %1, how can I help you today?',]\n",
    "    ],\n",
    "    [\n",
    "        r'hi|hey|hello',\n",
    "        ['Hello!', 'Hey there!',]\n",
    "    ],\n",
    "    [\n",
    "        r'what is your name?',\n",
    "        ['I am a chatbot created with NLTK.',]\n",
    "    ],\n",
    "    [\n",
    "        r'how are you?',\n",
    "        ['I\\'m doing great! How about you?',]\n",
    "    ],\n",
    "    [\n",
    "        r'quit',\n",
    "        ['Bye! Take care.',]\n",
    "    ],\n",
    "]"
   ]
  },
  {
   "cell_type": "code",
   "execution_count": 4,
   "id": "77ced11c",
   "metadata": {},
   "outputs": [],
   "source": [
    "# Create the chatbot\n",
    "chatbot = Chat(pairs, reflections)"
   ]
  },
  {
   "cell_type": "code",
   "execution_count": 5,
   "id": "49edce90",
   "metadata": {},
   "outputs": [
    {
     "name": "stdout",
     "output_type": "stream",
     "text": [
      "Chat with the NLTK bot! Type \"quit\" to exit.\n",
      "None\n",
      "Hello sakis, how can I help you today?\n",
      "Hello!\n",
      "I am a chatbot created with NLTK.\n",
      "I'm doing great! How about you?\n",
      "None\n",
      "None\n",
      "Bye! Take care.\n"
     ]
    }
   ],
   "source": [
    "# Start conversation\n",
    "print('Chat with the NLTK bot! Type \"quit\" to exit.')\n",
    "chatbot.converse()"
   ]
  }
 ],
 "metadata": {
  "kernelspec": {
   "display_name": "env (3.10.0)",
   "language": "python",
   "name": "python3"
  },
  "language_info": {
   "codemirror_mode": {
    "name": "ipython",
    "version": 3
   },
   "file_extension": ".py",
   "mimetype": "text/x-python",
   "name": "python",
   "nbconvert_exporter": "python",
   "pygments_lexer": "ipython3",
   "version": "3.10.0"
  }
 },
 "nbformat": 4,
 "nbformat_minor": 5
}
